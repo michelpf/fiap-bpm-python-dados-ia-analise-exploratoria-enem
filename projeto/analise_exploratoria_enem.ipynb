{
  "cells": [
    {
      "cell_type": "markdown",
      "metadata": {
        "id": "pgRWcvGOkuyW"
      },
      "source": [
        "# MBA FIAP Business Process Digital Automation & Emerging Technologies\n",
        "\n",
        "## Python para IA & Dados: Análise Exploratória dos Microdados do ENEM 2019\n",
        "\n",
        "> Atenção: este notebook foi desenhado para funcionar no **Google Collab**. Se pretende executar localmente prefira a versão local deste notebook, sem o sufixo ```-collab```.\n",
        "\n",
        "## 1. Introdução\n",
        "\n",
        "O Exame Nacional do Ensino Médio é uma prova de admissão à educação superior realizada pelo Instituto Nacional de Estudos e Pesquisas Educacionais Anísio Teixeira. Foi criada em 1998 inicialmente para avaliar a qualidade do ensino médio no país e que hoje foi ampliado para os resultados poderem ser utilizados como entrada em diversas universidades públicas e particulares pelo Brasil.\n",
        "\n",
        "Seus resultados gerais nos trazem outras questões de como o ensino nacinoal evolui. A partir dele podemos correlacionar as notas dos estudantes dado as condições geográficas e socio-econômicas.\n",
        "\n",
        "Uma análise criteriosa destes dados podem responder a questões como:\n",
        "\n",
        ">Um estudante tende a ter mais sucesso se morar uma região específica?\n",
        ">Estudantes com melhores condições financeiras implicam em melhores resultados\n",
        "\n",
        "## 2. Instruções\n",
        "\n",
        "Este projeto tem como objetivo explorar os conhecimentos adquiridos nas aulas práticas.\n",
        "\n",
        "Por meio de uma trilha guiada, iremos explorar os dados para conhecer alguns padrões e entender o panorama geral do ensino médio no Brasil.\n",
        "\n",
        "Este projeto poderá ser feita por grupos de até 4 pessoas.\n",
        "Caso este projeto seja substitutivo, deverá ser realizado por apenas uma pessoa.\n",
        "\n",
        "| Nome dos Integrantes     | RM            | Turma |\n",
        "| :----------------------- | :------------- | :-----: |\n",
        "| Integrante 1             | RM 12345      |  |\n",
        "| Integrante 2             | RM 12345      |  |\n",
        "| Integrante 3             | RM 12345      |  |\n",
        "| Integrante 4             | RM 12345      |  |\n",
        "\n",
        "Por ser um projeto guiado, fique atento quando houver as marcações **Implementação** indica que é necessário realizar alguma implementação em Python no bloco a seguir onde há a inscrição ```##IMPLEMENTAR``` e **Resposta** indica que é esperado uma resposta objetiva relacionado a algum questionamento. \n",
        "\n",
        "**Cada grupo pode utilizar nas respostas objetivas quaisquer itens necessários que enriqueçam seu ponto vista, como gráficos, fotos e, até mesmo, trechos de código-fonte.**\n",
        "\n",
        "Pode-se utilizar quantos blocos forem necessários para realizar determinadas implementações ou utilizá-las para justificar as respostas. Não é obrigatório utilizar somente o bloco indicado.\n",
        "\n",
        "Ao final não se esqueça de subir os arquivos do projeto nas contas do GitHub de cada membro, ou subir na do representante do grupo e os membros realizarem o fork do projeto.\n",
        "\n",
        "A avaliação terá mais ênfase nos seguintes tópicos de desenvolvimento do projeto (note o peso da avaliação final):\n",
        " \n",
        "1. __Carregamento dos Dados (1,0)__\n",
        "2. __Inspeção e Remoção de Dados Inválidos (2,0)__\n",
        "3. __Exploração (4,0)__\n",
        "4. __Conclusões Finais (3,0)__"
      ]
    },
    {
      "cell_type": "markdown",
      "metadata": {
        "id": "2l4-3w0koOan"
      },
      "source": [
        "## 1. Carregamento dos Dados\n",
        "\n",
        "Os dados utilizados estão no conjunto de dados [Amostra Enem 2019 do Kaggle](https://www.kaggle.com/viniciusmontagner/amostra-enem-2019). A versão orignal possui muito mais arquivos e é mais pesada, por isso recomendamos utilizar este conjunto de dados.\n",
        "\n",
        "Você também pode baixar diretamente do [repositório](https://github.com/michelpf/fiap-bpm-python-dados-ia-analise-exploratoria-enem/blob/master/dados/MICRODADOS_ENEM_2019_SAMPLE_43278.csv).\n",
        "\n",
        "É necessário baixar o arquivo, descompactar e carregar no Colab para a análise.\n",
        "\n",
        ">Este conjunto de dados possui 80 MB, avalie utilizar o Google Drive para não ter que enviar o arquivo toda vez que for realizar os estaudos."
      ]
    },
    {
      "cell_type": "code",
      "execution_count": null,
      "metadata": {
        "id": "rdJuxuXXkUne"
      },
      "outputs": [],
      "source": [
        "# Importação das bibliotecas necessárias\n",
        "# Atenção: você pode incluir outras bibliotecas se achar necessário!\n",
        "\n",
        "import seaborn as sns\n",
        "import matplotlib.pyplot as plt\n",
        "import pandas as pd\n",
        "import numpy as np"
      ]
    },
    {
      "cell_type": "code",
      "execution_count": null,
      "metadata": {
        "colab": {
          "base_uri": "https://localhost:8080/",
          "height": 299
        },
        "id": "sR1ro1P8pX5N",
        "outputId": "28776a45-719d-45a9-d9fb-b8f2ae961a70"
      },
      "outputs": [],
      "source": [
        "# IMPLEMENTAR: carregue os dados do arquivo CSV utilizando o Pandas\n",
        "# Por se tratar de um arquivo CSV utilize o método específico do Pandas para abrir este arquivo.\n"
      ]
    },
    {
      "cell_type": "code",
      "execution_count": null,
      "metadata": {
        "id": "gRbu_aRBzTjc"
      },
      "outputs": [],
      "source": [
        "# IMPLEMENTAR: faça a leitura dos primeiros registros e verifique se os dados foram importados com sucesso ou se houve algum problema \n",
        "# com o carregamento, como caracteres inválidos, por exemplo.\n"
      ]
    },
    {
      "cell_type": "markdown",
      "metadata": {
        "id": "gwArBILhrin-"
      },
      "source": [
        "## Inspeção e Remoção de Dados Inválidos\n",
        "\n",
        "Para ter uma melhor visão dos dados e não haver contaminações de dados inválidos, como valores nulos ou zerados (em algumas situações), é importante remover tais registros.\n",
        "\n",
        "Algumas classes de dados inválidos para verificar:\n",
        "\n",
        "* Dados nulos\n",
        "* Dados inválidos\n",
        "  1. Todas as notas zerada2\n",
        "  2. Notas menores do que 0 (mínimo)\n",
        "  3. Notas maiores do que 1000 (máximo)"
      ]
    },
    {
      "cell_type": "code",
      "execution_count": null,
      "metadata": {
        "colab": {
          "base_uri": "https://localhost:8080/"
        },
        "id": "g-xwQ7cmpwjl",
        "outputId": "339d9ed4-2bf2-4f3f-fd09-7b1e84d9306e"
      },
      "outputs": [],
      "source": [
        "# IMPLEMENTAR: verifique se existem dados nulos"
      ]
    },
    {
      "cell_type": "markdown",
      "metadata": {
        "id": "ceF_qF4x1LEO"
      },
      "source": [
        "Para a avaliação de dados inválidos, nota zerada por exemplo, é necessário ter cuidado. Podemos concluir que um aluno que não compareceu em todas as avaliações não deve ser utilizado para correlações de suas notas. Nesse caso, podemos dispensar os registros dos quais todas as notas foram zeradas.\n",
        "\n",
        "Os campos referentes as notas são:\n",
        "\n",
        "* ```NU_NOTA_CN```: Ciências Naturais\n",
        "* ```NU_NOTA_CH```: Ciências Humanas\n",
        "* ```NU_NOTA_MT```: Ciências Matemática\n",
        "* ```NU_NOTA_LC```: Linguagens e Códigos\n",
        "* ```NU_NOTA_REDACAO```: Redação"
      ]
    },
    {
      "cell_type": "code",
      "execution_count": null,
      "metadata": {
        "id": "TuT4goZKr82A"
      },
      "outputs": [],
      "source": [
        "# IMPLEMENTAR: verifique se existem dados inválidos (nota zerada em todas as provas)\n",
        "# Neste caso podemos somar todas as notas em um novo atributo e fazer o filtro neste campo novo\n"
      ]
    },
    {
      "cell_type": "code",
      "execution_count": null,
      "metadata": {
        "colab": {
          "base_uri": "https://localhost:8080/",
          "height": 487
        },
        "id": "wcWmL1OysfQP",
        "outputId": "2899e90d-a6f9-458b-ba19-45879cf59c76"
      },
      "outputs": [],
      "source": [
        "# IMPLEMENTAR: verifique se existem notas somadas iguais a zero\n"
      ]
    },
    {
      "cell_type": "code",
      "execution_count": null,
      "metadata": {
        "id": "abLkKuBO0caM"
      },
      "outputs": [],
      "source": [
        "# IMPLEMENTAR: remova os dados de notas zeradas totais e armazene em um outro dataframe, por exemplo, dados_limpos\n"
      ]
    },
    {
      "cell_type": "markdown",
      "metadata": {
        "id": "G61kcI_I1wyT"
      },
      "source": [
        "## 2. Exploração\n",
        "\n",
        "Agora que temos os dados padronizados e devidamente sanitizados, estamos prontos para realizar uma análise exploratória.\n",
        "\n",
        "Noss intuito é encontrar relações e possíveis padrões nas distribuições dos dados e assim conhecer melhor o que os dados desta edição do ENEM nos trazem.\n",
        "\n",
        "Considere as descrições dos campos que poderão ser utilizados (não limitados a eles):\n",
        "\n",
        "* ```TP_ESCOLA```:\tTipo de escola do Ensino Médio (os valores possíveis para esse campo são: 1. Não informou; 2. Pública; 3. Privada; 4. Exterior.)\n",
        "* ```NU_NOTA_CN```:\tNota da prova de Ciências da Natureza\n",
        "* ```NU_NOTA_CH```:\tNota da prova de Ciências Humanas\n",
        "* ```NU_NOTA_LC```:\tNota da prova de Linguagens e Códigos\n",
        "* ```NU_NOTA_MT```:\tNota da prova de Matemática\n",
        "* ```NU_NOTA_REDACAO```:\tNota da prova de redação\n",
        "* ```TP_ESCOLA```:\tTipo de escola do Ensino Médio\n",
        "* ```TP_ENSINO```:\tTipo de instituição que concluiu ou concluirá o Ensino Médio\n",
        "* ```SG_UF_ESC```:\tSigla da Unidade da Federação da escola\n",
        "* ```TP_SEXO```:\tSexo\n",
        "* ```TP_COR_RACA```: Cor/raça\n",
        "* ```Q001```: Formação acadêmica do pai (do menor grau A para o maior grau Q)\n",
        "* ```Q002```:\tFormação acadêmica da mãe (do menor grau A para o maior grau Q)\n",
        "* ```Q005```:\tNúmero de pessoas na residência (do menor número A para o maior número Q)\n",
        "* ```Q006```:\tFaixa de renda familiar mensal (da menor renda A para a maior renda Q)\n",
        "* ```Q007```:\tFamília contrata empregada doméstica (do menor grau A indica não e para o maior grau indica a maior frequência de dias)\n",
        "\n",
        "Consulte a tabela [Dicionário_Microdados_Enem_2019](https://github.com/michelpf/fiap-bpm-python-dados-ia-analise-exploratoria-enem/blob/master/dados/Dicionário_Microdados_Enem_2019.xlsx) para ter acesso ao dicionário de dados completo."
      ]
    },
    {
      "cell_type": "markdown",
      "metadata": {
        "id": "lJcCD3lo197t"
      },
      "source": [
        "### 2.1 Faixa etária\n",
        "\n",
        "Qual a distribuição de faixa etária do exame?\n",
        "\n"
      ]
    },
    {
      "cell_type": "code",
      "execution_count": null,
      "metadata": {
        "colab": {
          "base_uri": "https://localhost:8080/",
          "height": 354
        },
        "id": "_QDjphzA1vW4",
        "outputId": "147eec8c-b59f-4195-e68b-e01c563d0a7d"
      },
      "outputs": [],
      "source": [
        "#IMPLEMENTAR: Implemente um gráfico que mostre a distribuição das idades dos estudantes que fizeram a prova.\n"
      ]
    },
    {
      "cell_type": "markdown",
      "metadata": {
        "id": "mrBKEBIR2Y9_"
      },
      "source": [
        "O que foi observado nesta distribuição? Algo diferente do senso comum foi identificado?"
      ]
    },
    {
      "cell_type": "markdown",
      "metadata": {
        "id": "qf8U-KqY2fzy"
      },
      "source": [
        "**Resposta**"
      ]
    },
    {
      "cell_type": "markdown",
      "metadata": {
        "id": "CHR74Db-3mwD"
      },
      "source": [
        "### 2.2 Geografia\n",
        "\n",
        "Qual a quantidade de inscritos por Estado?"
      ]
    },
    {
      "cell_type": "code",
      "execution_count": null,
      "metadata": {
        "colab": {
          "base_uri": "https://localhost:8080/",
          "height": 820
        },
        "id": "DnF4Ompu2Xwn",
        "outputId": "88eefbd4-6b29-4e14-83ca-483eb127c516"
      },
      "outputs": [],
      "source": [
        "# IMPLEMENTAR: implemente um gráfico que conte o número de estudantes por estado de residência\n",
        "\n"
      ]
    },
    {
      "cell_type": "markdown",
      "metadata": {
        "id": "Wift67pr4VW5"
      },
      "source": [
        "Qual o Estado com o maior número de estudantes? Qual o que tem o menor? Quais suas conclusões sobre estes números?"
      ]
    },
    {
      "cell_type": "markdown",
      "metadata": {
        "id": "orDzrf3K4gei"
      },
      "source": [
        "**Resposta**"
      ]
    },
    {
      "cell_type": "markdown",
      "metadata": {
        "id": "IYhkmQ343qY6"
      },
      "source": [
        "### 2.3 Notas das avaliações \n",
        "\n",
        "Relacione os dados de todas as notas na forma que seja possível verificar a média, desvio padrão, nota máxima e nota mínima."
      ]
    },
    {
      "cell_type": "code",
      "execution_count": null,
      "metadata": {
        "colab": {
          "base_uri": "https://localhost:8080/",
          "height": 300
        },
        "id": "b6lTV0OI2gwi",
        "outputId": "ca1195ab-597c-4343-a103-d262a4644762"
      },
      "outputs": [],
      "source": [
        "# IMPLEMENTAR: exiba as informações de contagem, média, desvio padrão, nota mínima, quartil 25%, quartil 50%, quartil 75% e nota máxima\n"
      ]
    },
    {
      "cell_type": "markdown",
      "metadata": {
        "id": "9SDzkl884kU_"
      },
      "source": [
        "Existe alguma correlação entre as diferentes disciplinas (```CN:Ciências Naturais```, ```CH: Ciências Humanas```, ```MT: Ciências Matemática```, ```LC: Linguagens e Códigos``` e ```Redação```)?"
      ]
    },
    {
      "cell_type": "code",
      "execution_count": null,
      "metadata": {
        "colab": {
          "base_uri": "https://localhost:8080/",
          "height": 378
        },
        "id": "pehAKJ7C3rMk",
        "outputId": "b88acc5c-fcbe-4f8f-f2da-d8cc7d226c52"
      },
      "outputs": [],
      "source": [
        "# IMPLEMENTAR: utilize um gráfico heat para exibir as correlações entre as notas das avaliações\n"
      ]
    },
    {
      "cell_type": "markdown",
      "metadata": {
        "id": "vH9jvUan42On"
      },
      "source": [
        "Encontrou alguma correlação (>70%) entre as notas das diferentes disciplinas? Qual foi? Quais os aspectos que você entende, se houver, nesta correlação?"
      ]
    },
    {
      "cell_type": "markdown",
      "metadata": {
        "id": "wAsIXVt85BD5"
      },
      "source": [
        "**Resposta**"
      ]
    },
    {
      "cell_type": "markdown",
      "metadata": {
        "id": "Q7tIoNkc651-"
      },
      "source": [
        "### 2.4 Renda\n",
        "\n",
        "Existe correlação entre renda familia dos estudantes (campo ```Q006```) e a nota das avaliações?"
      ]
    },
    {
      "cell_type": "code",
      "execution_count": null,
      "metadata": {
        "colab": {
          "base_uri": "https://localhost:8080/",
          "height": 515
        },
        "id": "ur91KLN26_aq",
        "outputId": "e6cce707-d3c0-4228-90c3-5f4b587b42d9"
      },
      "outputs": [],
      "source": [
        "# IMPLEMENTAR: exiba um gráfico que correlacione as notas totais das avaliações com a renda familiar dos estudantes.\n",
        "# O gráfico de Box Plot é uma das formas para exibir estas informações.\n",
        "\n"
      ]
    },
    {
      "cell_type": "markdown",
      "metadata": {
        "id": "-yap9nmB5_zW"
      },
      "source": [
        "Existe alguma potencial correlação entre alunos com maior renda e suas notas? Explique suas conclusões."
      ]
    },
    {
      "cell_type": "markdown",
      "metadata": {
        "id": "4_KcYE1K5_6o"
      },
      "source": [
        "**Resposta**"
      ]
    },
    {
      "cell_type": "markdown",
      "metadata": {
        "id": "T8t0cA0i5giq"
      },
      "source": [
        "### 2.5 Educação do pais\n",
        "\n",
        "Existe correlação entre a formação do pai (campo ```Q001```) e/ou da mãe (campo ```Q002```) e a nota das avaliações?"
      ]
    },
    {
      "cell_type": "code",
      "execution_count": null,
      "metadata": {
        "colab": {
          "base_uri": "https://localhost:8080/",
          "height": 515
        },
        "id": "NHVPjgO77HfE",
        "outputId": "cd4bad16-6af0-466a-8f9a-652a56eba747"
      },
      "outputs": [],
      "source": [
        "# IMPLEMENTAR: exiba um gráfico que correlacione as notas totais das avaliações com o graud de formação do pai\n",
        "# O gráfico de Box Plot é uma das formas para exibir estas informações.\n",
        "\n"
      ]
    },
    {
      "cell_type": "code",
      "execution_count": null,
      "metadata": {
        "colab": {
          "base_uri": "https://localhost:8080/",
          "height": 515
        },
        "id": "FC9QDqsA8vPR",
        "outputId": "69dab472-615f-405f-c4a6-f279281269cf"
      },
      "outputs": [],
      "source": [
        "# IMPLEMENTAR: exiba um gráfico que correlacione as notas totais das avaliações com o graud de formação da mãe\n",
        "# O gráfico de Box Plot é uma das formas para exibir estas informações.\n",
        "\n"
      ]
    },
    {
      "cell_type": "markdown",
      "metadata": {
        "id": "33L0Zvsk50Oz"
      },
      "source": [
        "Há alguma influência na nota dos estudantes comparando com a formação de seus pais? Explique sua resposta."
      ]
    },
    {
      "cell_type": "markdown",
      "metadata": {
        "id": "cEOMRTth50ZC"
      },
      "source": [
        "**Resposta**"
      ]
    },
    {
      "cell_type": "markdown",
      "metadata": {
        "id": "U6ut3nC8-nY7"
      },
      "source": [
        "## 3. Conclusões"
      ]
    },
    {
      "cell_type": "markdown",
      "metadata": {
        "id": "UHJf_MZAClzJ"
      },
      "source": [
        "Quais são os aspectos mais importantes de uma análise exploratória como essa?"
      ]
    },
    {
      "cell_type": "markdown",
      "metadata": {
        "id": "uBIsVdfzCdKg"
      },
      "source": [
        "**Resposta**"
      ]
    },
    {
      "cell_type": "markdown",
      "metadata": {
        "id": "IoZU5YOXCdOW"
      },
      "source": [
        "Quais as aplicações destes dados podem ter para as escolas, estudantes e ao governo?"
      ]
    },
    {
      "cell_type": "markdown",
      "metadata": {
        "id": "QJxgr9doCdQ1"
      },
      "source": [
        "**Resposta**"
      ]
    },
    {
      "cell_type": "markdown",
      "metadata": {
        "id": "0wqu0xZTCf2R"
      },
      "source": [
        "Se você fosse construir um modelo de regressão para estimar a nota de uma determinada disciplina ou geral, quais atributos você poderia escolher, com base na análise exploratória?"
      ]
    },
    {
      "cell_type": "markdown",
      "metadata": {
        "id": "PZumX6t3Cgfy"
      },
      "source": [
        "**Resposta**"
      ]
    }
  ],
  "metadata": {
    "colab": {
      "name": "analise-exploratoria-enem.ipynb",
      "provenance": []
    },
    "kernelspec": {
      "display_name": "Python 3",
      "name": "python3"
    },
    "language_info": {
      "name": "python"
    }
  },
  "nbformat": 4,
  "nbformat_minor": 0
}
